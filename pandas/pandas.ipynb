{
 "nbformat": 4,
 "nbformat_minor": 0,
 "metadata": {
  "colab": {
   "name": "pandas.ipynb",
   "private_outputs": true,
   "provenance": [],
   "authorship_tag": "ABX9TyOhGDHJ01xKACQrTPKAd597"
  },
  "kernelspec": {
   "name": "python3",
   "display_name": "Python 3"
  },
  "language_info": {
   "name": "python"
  },
  "accelerator": "GPU"
 },
 "cells": [
  {
   "cell_type": "code",
   "metadata": {
    "id": "gIkxqEjmrvjp"
   },
   "source": [
    "import numpy as np\n",
    "import pandas as pd"
   ],
   "execution_count": 7,
   "outputs": []
  },
  {
   "cell_type": "code",
   "execution_count": 16,
   "outputs": [
    {
     "name": "stdout",
     "output_type": "stream",
     "text": [
      "0    0.00\n",
      "1    0.25\n",
      "2    0.50\n",
      "3    0.75\n",
      "4    1.00\n",
      "dtype: float64\n",
      "[0.   0.25 0.5  0.75 1.  ]\n",
      "RangeIndex(start=0, stop=5, step=1)\n",
      "0.25\n",
      "1    0.25\n",
      "2    0.50\n",
      "3    0.75\n",
      "dtype: float64\n"
     ]
    }
   ],
   "source": [
    "s = pd.Series([0, 0.25 , 0.5 , 0.75 , 1.0]) #데이터를 index와 values 형태로 저장\n",
    "print(s)\n",
    "print(s.values) # values 값만 출력\n",
    "print(s.index) # index 값만 출력\n",
    "print(s[1])  # 부분 추출\n",
    "print(s[1:4])"
   ],
   "metadata": {
    "collapsed": false,
    "pycharm": {
     "name": "#%%\n"
    }
   }
  },
  {
   "cell_type": "code",
   "execution_count": 28,
   "outputs": [
    {
     "name": "stdout",
     "output_type": "stream",
     "text": [
      "0.5\n",
      "c    0.50\n",
      "d    0.75\n",
      "e    1.00\n",
      "dtype: float64\n",
      "True\n",
      "False\n"
     ]
    }
   ],
   "source": [
    "s = pd.Series([0, 0.25 , 0.5 , 0.75 , 1.0],\n",
    "                index = [ 'a' , 'b' , 'c' , 'd' , 'e']) #인덱스를 따로 정해줌 a , b , c , d , e\n",
    "\n",
    "print(s['c']) # s 의 c index 의 values 값을 출력\n",
    "print(s[['c' , 'd' , 'e']]) # index c , d , e 값만 출력\n",
    "print('b' in s) # b 라는 index가 있는지 물어봄 True\n",
    "print('g' in s) # g 라는 index가 있는지 물어봄 False"
   ],
   "metadata": {
    "collapsed": false,
    "pycharm": {
     "name": "#%%\n"
    }
   }
  },
  {
   "cell_type": "code",
   "execution_count": 35,
   "outputs": [
    {
     "name": "stdout",
     "output_type": "stream",
     "text": [
      "2     0.00\n",
      "4     0.25\n",
      "6     0.50\n",
      "8     0.75\n",
      "10    1.00\n",
      "dtype: float64\n",
      "6     0.50\n",
      "8     0.75\n",
      "10    1.00\n",
      "dtype: float64\n",
      "[0.   0.25 0.5  0.75 1.  ]\n",
      "0.00    1\n",
      "1.00    1\n",
      "0.50    1\n",
      "0.75    1\n",
      "0.25    1\n",
      "dtype: int64\n",
      "2     False\n",
      "4      True\n",
      "6      True\n",
      "8     False\n",
      "10    False\n",
      "dtype: bool\n"
     ]
    }
   ],
   "source": [
    "s = pd.Series([0 , 0.25 , 0.5 , 0.75 , 1.0],\n",
    "                index=[2 , 4 , 6 , 8 , 10])\n",
    "\n",
    "print(s)\n",
    "print(s[2:]) # 슬라이싱\n",
    "print(s.unique()) # 독특한 값만 출력\n",
    "print(s.value_counts()) # s 의 value 값을 카운트 해줌 0.5 가 몇갠지 , 0.75가 몇갠지\n",
    "print(s.isin([0.25 , 0.5])) # 0.25와 0.75가 어디 있는지 bool형태"
   ],
   "metadata": {
    "collapsed": false,
    "pycharm": {
     "name": "#%%\n"
    }
   }
  },
  {
   "cell_type": "code",
   "execution_count": 40,
   "outputs": [
    {
     "name": "stdout",
     "output_type": "stream",
     "text": [
      "{'서울특별시': 9720846, '부산광역시': 3404423, '인천광역시': 2947217, '대구광역시': 2427954, '광주광역시': 1455048}\n",
      "9720846\n",
      "서울특별시    9720846\n",
      "부산광역시    3404423\n",
      "인천광역시    2947217\n",
      "dtype: int64\n"
     ]
    }
   ],
   "source": [
    "pop_tuple = {'서울특별시': 9720846,\n",
    "             '부산광역시' : 3404423,\n",
    "             '인천광역시' : 2947217,\n",
    "             '대구광역시' : 2427954,\n",
    "             '광주광역시': 1455048}\n",
    "\n",
    "population = pd.Series(pop_tuple)\n",
    "print(pop_tuple)\n",
    "print(population['서울특별시']) # 서울 특별시 인구 출력\n",
    "print(population['서울특별시':'인천광역시']) # 슬라이싱해서 값을 알려줌"
   ],
   "metadata": {
    "collapsed": false,
    "pycharm": {
     "name": "#%%\n"
    }
   }
  },
  {
   "cell_type": "code",
   "execution_count": 41,
   "outputs": [
    {
     "data": {
      "text/plain": "   A  B    D    C\n0  2  4  3.0  NaN\n1  4  5  NaN  7.0",
      "text/html": "<div>\n<style scoped>\n    .dataframe tbody tr th:only-of-type {\n        vertical-align: middle;\n    }\n\n    .dataframe tbody tr th {\n        vertical-align: top;\n    }\n\n    .dataframe thead th {\n        text-align: right;\n    }\n</style>\n<table border=\"1\" class=\"dataframe\">\n  <thead>\n    <tr style=\"text-align: right;\">\n      <th></th>\n      <th>A</th>\n      <th>B</th>\n      <th>D</th>\n      <th>C</th>\n    </tr>\n  </thead>\n  <tbody>\n    <tr>\n      <th>0</th>\n      <td>2</td>\n      <td>4</td>\n      <td>3.0</td>\n      <td>NaN</td>\n    </tr>\n    <tr>\n      <th>1</th>\n      <td>4</td>\n      <td>5</td>\n      <td>NaN</td>\n      <td>7.0</td>\n    </tr>\n  </tbody>\n</table>\n</div>"
     },
     "execution_count": 41,
     "metadata": {},
     "output_type": "execute_result"
    }
   ],
   "source": [
    "pd.DataFrame([{'A' :2 , 'B' : 4 , 'D' : 3} , {'A':4 , 'B': 5 , 'C' : 7}]) #dict형태로 만든 후 출력 해보면 Nan은 값이 누락된것을 의미하고 Nan으로대체 함"
   ],
   "metadata": {
    "collapsed": false,
    "pycharm": {
     "name": "#%%\n"
    }
   }
  },
  {
   "cell_type": "code",
   "execution_count": 42,
   "outputs": [
    {
     "data": {
      "text/plain": "          A         B         C         D         E\n1  0.673659  0.805219  0.418727  0.651077  0.094019\n2  0.275259  0.993044  0.376249  0.075043  0.898892\n3  0.931864  0.038603  0.006735  0.697752  0.718385\n4  0.422275  0.133480  0.054310  0.210202  0.177944\n5  0.676205  0.192869  0.019551  0.834254  0.742383",
      "text/html": "<div>\n<style scoped>\n    .dataframe tbody tr th:only-of-type {\n        vertical-align: middle;\n    }\n\n    .dataframe tbody tr th {\n        vertical-align: top;\n    }\n\n    .dataframe thead th {\n        text-align: right;\n    }\n</style>\n<table border=\"1\" class=\"dataframe\">\n  <thead>\n    <tr style=\"text-align: right;\">\n      <th></th>\n      <th>A</th>\n      <th>B</th>\n      <th>C</th>\n      <th>D</th>\n      <th>E</th>\n    </tr>\n  </thead>\n  <tbody>\n    <tr>\n      <th>1</th>\n      <td>0.673659</td>\n      <td>0.805219</td>\n      <td>0.418727</td>\n      <td>0.651077</td>\n      <td>0.094019</td>\n    </tr>\n    <tr>\n      <th>2</th>\n      <td>0.275259</td>\n      <td>0.993044</td>\n      <td>0.376249</td>\n      <td>0.075043</td>\n      <td>0.898892</td>\n    </tr>\n    <tr>\n      <th>3</th>\n      <td>0.931864</td>\n      <td>0.038603</td>\n      <td>0.006735</td>\n      <td>0.697752</td>\n      <td>0.718385</td>\n    </tr>\n    <tr>\n      <th>4</th>\n      <td>0.422275</td>\n      <td>0.133480</td>\n      <td>0.054310</td>\n      <td>0.210202</td>\n      <td>0.177944</td>\n    </tr>\n    <tr>\n      <th>5</th>\n      <td>0.676205</td>\n      <td>0.192869</td>\n      <td>0.019551</td>\n      <td>0.834254</td>\n      <td>0.742383</td>\n    </tr>\n  </tbody>\n</table>\n</div>"
     },
     "execution_count": 42,
     "metadata": {},
     "output_type": "execute_result"
    }
   ],
   "source": [
    "pd.DataFrame(np.random.rand(5,5),\n",
    "             columns= ['A' , 'B' , 'C' , 'D' , 'E'],\n",
    "             index=[1,2,3,4,5]) # 랜덤값이 들어간 상태로 출력하기"
   ],
   "metadata": {
    "collapsed": false,
    "pycharm": {
     "name": "#%%\n"
    }
   }
  },
  {
   "cell_type": "code",
   "execution_count": 43,
   "outputs": [
    {
     "name": "stdout",
     "output_type": "stream",
     "text": [
      "서울특별시    9720846\n",
      "부산광역시    3404423\n",
      "인천광역시    2947217\n",
      "대구광역시    2427954\n",
      "광주광역시    1455048\n",
      "dtype: int64\n"
     ]
    }
   ],
   "source": [
    "male_tuple= {'서울특별시': 4732275,\n",
    "            '부산광역시' : 1668618,\n",
    "            '인천광역시' : 1476813,\n",
    "            '대구광역시' : 1198815,\n",
    "            '광주광역시': 720060}\n",
    "\n",
    "male = pd.Series(male_tuple)\n",
    "print(male)"
   ],
   "metadata": {
    "collapsed": false,
    "pycharm": {
     "name": "#%%\n"
    }
   }
  },
  {
   "cell_type": "code",
   "execution_count": 49,
   "outputs": [
    {
     "name": "stdout",
     "output_type": "stream",
     "text": [
      "서울특별시    4988571\n",
      "부산광역시    1735805\n",
      "인천광역시    1470404\n",
      "대구광역시    1229139\n",
      "광주광역시     734988\n",
      "dtype: int64\n"
     ]
    }
   ],
   "source": [
    "female_tuple= {'서울특별시': 4988571,\n",
    "             '부산광역시' : 1735805,\n",
    "             '인천광역시' : 1470404,\n",
    "             '대구광역시' : 1229139,\n",
    "             '광주광역시': 734988}\n",
    "\n",
    "female = pd.Series(female_tuple)\n",
    "print(female)"
   ],
   "metadata": {
    "collapsed": false,
    "pycharm": {
     "name": "#%%\n"
    }
   }
  },
  {
   "cell_type": "code",
   "execution_count": 62,
   "outputs": [
    {
     "name": "stdout",
     "output_type": "stream",
     "text": [
      "            인구   남자 인구수   여자 인구수\n",
      "서울특별시  9720846  9720846  4988571\n",
      "부산광역시  3404423  3404423  1735805\n",
      "인천광역시  2947217  2947217  1470404\n",
      "대구광역시  2427954  2427954  1229139\n",
      "광주광역시  1455048  1455048   734988\n",
      "Index(['서울특별시', '부산광역시', '인천광역시', '대구광역시', '광주광역시'], dtype='object')\n",
      "Index(['인구', '남자 인구수', '여자 인구수'], dtype='object')\n",
      "서울특별시    4988571\n",
      "부산광역시    1735805\n",
      "인천광역시    1470404\n",
      "대구광역시    1229139\n",
      "광주광역시     734988\n",
      "Name: 여자 인구수, dtype: int64\n",
      "            인구   남자 인구수   여자 인구수\n",
      "서울특별시  9720846  9720846  4988571\n",
      "부산광역시  3404423  3404423  1735805\n",
      "인천광역시  2947217  2947217  1470404\n"
     ]
    }
   ],
   "source": [
    "kor_df = pd.DataFrame({'인구' : population ,\n",
    "                       '남자 인구수' : male,\n",
    "                       '여자 인구수' : female})\n",
    "\n",
    "print(kor_df)\n",
    "print(kor_df.index)\n",
    "print(kor_df.columns)\n",
    "print(kor_df['여자 인구수'])\n",
    "print(kor_df['서울특별시':'인천광역시']) #서울 특별시 인구부터 인천 광역시 인구까지\n"
   ],
   "metadata": {
    "collapsed": false,
    "pycharm": {
     "name": "#%%\n"
    }
   }
  },
  {
   "cell_type": "code",
   "execution_count": 70,
   "outputs": [
    {
     "name": "stdout",
     "output_type": "stream",
     "text": [
      "Int64Index([2, 4, 6, 8, 10], dtype='int64')\n",
      "4\n",
      "Int64Index([4], dtype='int64')\n",
      "Int64Index([10], dtype='int64')\n",
      "Int64Index([2, 6, 10], dtype='int64')\n",
      "Int64Index([2, 4, 6, 8, 10], dtype='int64')\n",
      "5\n",
      "(5,)\n",
      "1\n",
      "int64\n"
     ]
    }
   ],
   "source": [
    "idx = pd.Index([2, 4, 6, 8, 10])\n",
    "print(idx)\n",
    "print(idx[1])\n",
    "print(idx[1:2:2])\n",
    "print(idx[-1::])\n",
    "print(idx[::2])\n",
    "\n",
    "print(idx)\n",
    "print(idx.size) # idx의 크기\n",
    "print(idx.shape) # idx은 1차원이라는걸 알려줌\n",
    "print(idx.ndim) # idx의 차원수\n",
    "print(idx.dtype) # 데이터 타입"
   ],
   "metadata": {
    "collapsed": false,
    "pycharm": {
     "name": "#%%\n"
    }
   }
  },
  {
   "cell_type": "code",
   "execution_count": 75,
   "outputs": [
    {
     "name": "stdout",
     "output_type": "stream",
     "text": [
      "Int64Index([1, 2, 4, 6, 8, 2, 4, 5, 6, 7], dtype='int64')\n",
      "Int64Index([1, 8], dtype='int64')\n",
      "Int64Index([-1, -2, -1, 0, 1], dtype='int64')\n",
      "Int64Index([2, 4, 6], dtype='int64')\n",
      "Int64Index([2, 4, 6], dtype='int64')\n"
     ]
    },
    {
     "name": "stderr",
     "output_type": "stream",
     "text": [
      "<ipython-input-75-7fc3119adec3>:8: FutureWarning: Index.__and__ operating as a set operation is deprecated, in the future this will be a logical operation matching Series.__and__.  Use index.intersection(other) instead\n",
      "  print(idx1 & idx2)\n"
     ]
    }
   ],
   "source": [
    "idx1 = pd.Index([1,2,4,6,8])\n",
    "idx2 = pd.Index([2,4,5,6,7])\n",
    "\n",
    "print(idx1.append((idx2))) # idx1과 idx2가 결합된\n",
    "print(idx1.difference((idx2))) # idx1과idx2의 차집합\n",
    "print(idx1 - idx2)\n",
    "print(idx1.intersection(idx2)) # 공통된 교집합만 출력\n",
    "print(idx1 & idx2)"
   ],
   "metadata": {
    "collapsed": false,
    "pycharm": {
     "name": "#%%\n"
    }
   }
  }
 ]
}