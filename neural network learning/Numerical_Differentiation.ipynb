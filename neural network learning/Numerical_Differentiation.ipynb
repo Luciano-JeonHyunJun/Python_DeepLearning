{
 "nbformat": 4,
 "nbformat_minor": 0,
 "metadata": {
  "kernelspec": {
   "display_name": "Python 3",
   "language": "python",
   "name": "python3"
  },
  "language_info": {
   "codemirror_mode": {
    "name": "ipython",
    "version": 2
   },
   "file_extension": ".py",
   "mimetype": "text/x-python",
   "name": "python",
   "nbconvert_exporter": "python",
   "pygments_lexer": "ipython2",
   "version": "2.7.6"
  },
  "colab": {
   "name": "Numerical_Differentiation.ipynb",
   "provenance": []
  }
 },
 "cells": [
  {
   "cell_type": "code",
   "metadata": {
    "collapsed": true,
    "id": "wL1ChXsZ0ni0",
    "executionInfo": {
     "status": "ok",
     "timestamp": 1637939860964,
     "user_tz": -540,
     "elapsed": 2,
     "user": {
      "displayName": "hyunjun Jeon",
      "photoUrl": "https://lh3.googleusercontent.com/a/default-user=s64",
      "userId": "01564373415638383869"
     }
    }
   },
   "source": [
    "import numpy as np\n",
    "import matplotlib.pyplot as plt"
   ],
   "execution_count": 3,
   "outputs": []
  },
  {
   "cell_type": "markdown",
   "metadata": {
    "id": "nQQoI8Jh05GP"
   },
   "source": [
    "밑에 코드는 미분의 좋지 않은 구현 예시"
   ]
  },
  {
   "cell_type": "code",
   "metadata": {
    "id": "El58hcaQ1GiB",
    "executionInfo": {
     "status": "ok",
     "timestamp": 1637940019420,
     "user_tz": -540,
     "elapsed": 257,
     "user": {
      "displayName": "hyunjun Jeon",
      "photoUrl": "https://lh3.googleusercontent.com/a/default-user=s64",
      "userId": "01564373415638383869"
     }
    }
   },
   "source": [
    "def numberical_diff(f,x):\n",
    "    h = 10e50\n",
    "    return (f(x + h) - f(x)) / h"
   ],
   "execution_count": 4,
   "outputs": []
  },
  {
   "cell_type": "code",
   "execution_count": 5,
   "outputs": [
    {
     "name": "stdout",
     "output_type": "stream",
     "text": [
      "0.0\n"
     ]
    }
   ],
   "source": [
    "print(np.float32(1e-50))"
   ],
   "metadata": {
    "collapsed": false,
    "pycharm": {
     "name": "#%%\n"
    }
   }
  }
 ]
}