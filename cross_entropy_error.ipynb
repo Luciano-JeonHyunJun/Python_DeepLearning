{
  "nbformat": 4,
  "nbformat_minor": 0,
  "metadata": {
    "colab": {
      "name": "cross_entropy_error.ipynb",
      "private_outputs": true,
      "provenance": [],
      "collapsed_sections": [],
      "authorship_tag": "ABX9TyOS9WK6FtVs/qnwy8BDTrqQ",
      "include_colab_link": true
    },
    "kernelspec": {
      "name": "python3",
      "display_name": "Python 3"
    },
    "language_info": {
      "name": "python"
    },
    "accelerator": "GPU"
  },
  "cells": [
    {
      "cell_type": "markdown",
      "metadata": {
        "id": "view-in-github",
        "colab_type": "text"
      },
      "source": [
        "<a href=\"https://colab.research.google.com/github/Luciano-JeonHyunJun/Python_DeepLearning/blob/main/cross_entropy_error.ipynb\" target=\"_parent\"><img src=\"https://colab.research.google.com/assets/colab-badge.svg\" alt=\"Open In Colab\"/></a>"
      ]
    },
    {
      "cell_type": "code",
      "metadata": {
        "id": "QLtAfN43XxHU"
      },
      "source": [
        "import numpy as np"
      ],
      "execution_count": null,
      "outputs": []
    },
    {
      "cell_type": "code",
      "metadata": {
        "id": "xpyPhih4bZuT"
      },
      "source": [
        "def cross_entropy_error(y, t):\n",
        "\n",
        "    delta = 1e-7\n",
        "\n",
        "    return -np.sum(t * np.log(y + delta))"
      ],
      "execution_count": null,
      "outputs": []
    },
    {
      "cell_type": "code",
      "metadata": {
        "id": "oGLfGitUcByT"
      },
      "source": [
        "t = [0, 0, 1, 0, 0, 0, 0, 0, 0, 0,] # t는 정답 레이블\n",
        " \n",
        "y = [0.1, 0.05, 0.6, 0.0, 0.05, 0.1, 0.0, 0.1, 0.0, 0.0] #y는 신경망의 출력\n",
        "\n",
        "cross_entropy_error(np.array(y) , np.array(t)) "
      ],
      "execution_count": null,
      "outputs": []
    },
    {
      "cell_type": "code",
      "metadata": {
        "id": "dfRQ5D1Acsis"
      },
      "source": [
        "y = [0.1, 0.05, 0.1, 0.0, 0.05, 0.1, 0.0, 0.6, 0.0, 0.0]\n",
        "\n",
        "cross_entropy_error(np.array(y), np.array(t))"
      ],
      "execution_count": null,
      "outputs": []
    },
    {
      "cell_type": "markdown",
      "metadata": {
        "id": "ckPyRt7RdKKt"
      },
      "source": [
        "첫번째에서 출력이 0.6인 경우 교차 엔트로피의 오차는 0.51 이고 그 다음 정답일때의 출력이 더 낮은 0.1인 경우 교차 엔드로피의 오차는 무려 2.3 \n",
        "\n",
        "즉 결과가 더 작은 첫번째 추정이 정답일 가능성이 높다고 판단한것으로 오차제곱합과 일치함을 보여줌"
      ]
    }
  ]
}