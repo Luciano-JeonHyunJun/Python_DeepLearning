{
 "nbformat": 4,
 "nbformat_minor": 0,
 "metadata": {
  "colab": {
   "name": "multidimensional_array.ipynb",
   "private_outputs": true,
   "provenance": [],
   "authorship_tag": "ABX9TyNByTE9wUV3YxFXtAPP2CqJ"
  },
  "kernelspec": {
   "name": "python3",
   "display_name": "Python 3"
  },
  "language_info": {
   "name": "python"
  },
  "accelerator": "GPU"
 },
 "cells": [
  {
   "cell_type": "code",
   "metadata": {
    "id": "KB9VVRPPs9Lz"
   },
   "source": [
    "import numpy as np"
   ],
   "execution_count": 41,
   "outputs": []
  },
  {
   "cell_type": "code",
   "metadata": {
    "id": "y35D3-jFtNlg"
   },
   "source": [
    "A = np.array([1,2,3,4]) # 1차원 배열 생성 \n",
    "print(A)"
   ],
   "execution_count": 42,
   "outputs": [
    {
     "name": "stdout",
     "output_type": "stream",
     "text": [
      "[1 2 3 4]\n"
     ]
    }
   ]
  },
  {
   "cell_type": "code",
   "metadata": {
    "id": "AMPclcrstXpw"
   },
   "source": [
    "print(np.ndim(A)) #배열의 차원수를 알려줘 !"
   ],
   "execution_count": 43,
   "outputs": [
    {
     "name": "stdout",
     "output_type": "stream",
     "text": [
      "1\n"
     ]
    }
   ]
  },
  {
   "cell_type": "code",
   "metadata": {
    "id": "EDts_Io9tnsg"
   },
   "source": [
    "print(A.shape) #배열의 차원의 크기를 튜플 형태로 알려줘 !"
   ],
   "execution_count": 44,
   "outputs": [
    {
     "name": "stdout",
     "output_type": "stream",
     "text": [
      "(4,)\n"
     ]
    }
   ]
  },
  {
   "cell_type": "code",
   "metadata": {
    "id": "yDTpDK2yt1jQ"
   },
   "source": [
    "print(A.shape[0]) #위와 차이점은 , 이게 있고 없고 인데 ,, 내가 볼땐 A.shape 값의 0번째 index를 알려달라는거 같아 "
   ],
   "execution_count": 45,
   "outputs": [
    {
     "name": "stdout",
     "output_type": "stream",
     "text": [
      "4\n"
     ]
    }
   ]
  },
  {
   "cell_type": "code",
   "metadata": {
    "id": "VKxJSVpWt5Es"
   },
   "source": [
    "B = np.array([[1,2,3] , [3,4,5] , [6,7,9]]) #3차원 배열 생성\n",
    "print(B)"
   ],
   "execution_count": 46,
   "outputs": [
    {
     "name": "stdout",
     "output_type": "stream",
     "text": [
      "[[1 2 3]\n",
      " [3 4 5]\n",
      " [6 7 9]]\n"
     ]
    }
   ]
  },
  {
   "cell_type": "code",
   "metadata": {
    "id": "zLVMXJU4x20x"
   },
   "source": [
    "print(np.ndim(B))"
   ],
   "execution_count": 47,
   "outputs": [
    {
     "name": "stdout",
     "output_type": "stream",
     "text": [
      "2\n"
     ]
    }
   ]
  },
  {
   "cell_type": "code",
   "metadata": {
    "id": "Tv2M-P3j1Itz"
   },
   "source": [
    "print(B.shape)"
   ],
   "execution_count": 48,
   "outputs": [
    {
     "name": "stdout",
     "output_type": "stream",
     "text": [
      "(3, 3)\n"
     ]
    }
   ]
  },
  {
   "cell_type": "code",
   "metadata": {
    "id": "cCUDwCK11M7J"
   },
   "source": [
    "print(B.shape[0])"
   ],
   "execution_count": 49,
   "outputs": [
    {
     "name": "stdout",
     "output_type": "stream",
     "text": [
      "3\n"
     ]
    }
   ]
  },
  {
   "cell_type": "code",
   "metadata": {
    "id": "b143355zaPXl"
   },
   "source": [
    "import numpy as np"
   ],
   "execution_count": 50,
   "outputs": []
  },
  {
   "cell_type": "code",
   "metadata": {
    "id": "cm_kifbeanXR"
   },
   "source": [
    "A = np.array([[1,2] , [5,6]]) #2차원으로 A 배열 생성\n",
    "print(A.shape)"
   ],
   "execution_count": 51,
   "outputs": [
    {
     "name": "stdout",
     "output_type": "stream",
     "text": [
      "(2, 2)\n"
     ]
    }
   ]
  },
  {
   "cell_type": "code",
   "metadata": {
    "id": "CO8Ubm3RbNyD"
   },
   "source": [
    "B = np.array([[92,91] , [8,65]])\n",
    "print(B.shape)"
   ],
   "execution_count": 52,
   "outputs": [
    {
     "name": "stdout",
     "output_type": "stream",
     "text": [
      "(2, 2)\n"
     ]
    }
   ]
  },
  {
   "cell_type": "code",
   "metadata": {
    "id": "S1RjsqtsbZHo"
   },
   "source": [
    "print(np.dot(A,B)) #A와 B의 곱을 알려주는 np.dot(n1 , n2)"
   ],
   "execution_count": 53,
   "outputs": [
    {
     "name": "stdout",
     "output_type": "stream",
     "text": [
      "[[108 221]\n",
      " [508 845]]\n"
     ]
    }
   ]
  },
  {
   "cell_type": "code",
   "metadata": {
    "id": "pdsB_esSBiVe"
   },
   "source": [
    "import numpy as np"
   ],
   "execution_count": 54,
   "outputs": []
  },
  {
   "cell_type": "code",
   "metadata": {
    "id": "N_B6EHb5Blaa"
   },
   "source": [
    "A = np.array([[1,2] , [5,6]])\n",
    "print(A.shape)\n",
    "print(A.shape[0])"
   ],
   "execution_count": 55,
   "outputs": [
    {
     "name": "stdout",
     "output_type": "stream",
     "text": [
      "(2, 2)\n",
      "2\n"
     ]
    }
   ]
  },
  {
   "cell_type": "code",
   "metadata": {
    "id": "6CVg5j5YBzED"
   },
   "source": [
    "B = np.array([[1,2] , [3,4]])\n",
    "print(B.shape)\n",
    "print(B.shape[0])"
   ],
   "execution_count": 56,
   "outputs": [
    {
     "name": "stdout",
     "output_type": "stream",
     "text": [
      "(2, 2)\n",
      "2\n"
     ]
    }
   ]
  },
  {
   "cell_type": "code",
   "metadata": {
    "id": "KmCqUnIIB-mC"
   },
   "source": [
    "print(np.dot(A,B))"
   ],
   "execution_count": 57,
   "outputs": [
    {
     "name": "stdout",
     "output_type": "stream",
     "text": [
      "[[ 7 10]\n",
      " [23 34]]\n"
     ]
    }
   ]
  },
  {
   "cell_type": "code",
   "metadata": {
    "id": "1JUv3NF1CIvJ"
   },
   "source": [
    "C = np.array([[1,2] , [3,4]])\n",
    "print(C.shape)\n",
    "print(C.shape[0])"
   ],
   "execution_count": 58,
   "outputs": [
    {
     "name": "stdout",
     "output_type": "stream",
     "text": [
      "(2, 2)\n",
      "2\n"
     ]
    }
   ]
  },
  {
   "cell_type": "code",
   "metadata": {
    "id": "JhW2TQ4tCcdJ"
   },
   "source": [
    "print(np.dot(A, C))"
   ],
   "execution_count": 59,
   "outputs": [
    {
     "name": "stdout",
     "output_type": "stream",
     "text": [
      "[[ 7 10]\n",
      " [23 34]]\n"
     ]
    }
   ]
  },
  {
   "cell_type": "code",
   "metadata": {
    "id": "EALc1wv0CpCp"
   },
   "source": [
    "X = np.array([1,2])\n",
    "print(X.shape)"
   ],
   "execution_count": 60,
   "outputs": [
    {
     "name": "stdout",
     "output_type": "stream",
     "text": [
      "(2,)\n"
     ]
    }
   ]
  },
  {
   "cell_type": "code",
   "execution_count": 61,
   "outputs": [
    {
     "name": "stdout",
     "output_type": "stream",
     "text": [
      "[[1 3 5]\n",
      " [2 4 6]]\n"
     ]
    }
   ],
   "source": [
    "W = np.array([[1,3,5] , [2,4,6]])\n",
    "print(W)"
   ],
   "metadata": {
    "collapsed": false,
    "pycharm": {
     "name": "#%%\n"
    }
   }
  },
  {
   "cell_type": "code",
   "execution_count": 62,
   "outputs": [
    {
     "name": "stdout",
     "output_type": "stream",
     "text": [
      "(2, 3)\n"
     ]
    }
   ],
   "source": [
    "print(W.shape)"
   ],
   "metadata": {
    "collapsed": false,
    "pycharm": {
     "name": "#%%\n"
    }
   }
  },
  {
   "cell_type": "code",
   "execution_count": 63,
   "outputs": [
    {
     "name": "stdout",
     "output_type": "stream",
     "text": [
      "[ 5 11 17]\n"
     ]
    }
   ],
   "source": [
    "Y = np.dot(X, W) #X 랑 W 둘다 곱한걸 Y라하자 !\n",
    "print(Y)"
   ],
   "metadata": {
    "collapsed": false,
    "pycharm": {
     "name": "#%%\n"
    }
   }
  }
 ]
}