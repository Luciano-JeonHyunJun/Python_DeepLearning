{
 "nbformat": 4,
 "nbformat_minor": 0,
 "metadata": {
  "colab": {
   "name": "multidimensional_array.ipynb",
   "private_outputs": true,
   "provenance": []
  },
  "kernelspec": {
   "name": "python3",
   "display_name": "Python 3"
  },
  "language_info": {
   "name": "python"
  },
  "accelerator": "GPU"
 },
 "cells": [
  {
   "cell_type": "code",
   "metadata": {
    "id": "KB9VVRPPs9Lz"
   },
   "source": [
    "import numpy as np"
   ],
   "execution_count": null,
   "outputs": []
  },
  {
   "cell_type": "code",
   "metadata": {
    "id": "y35D3-jFtNlg"
   },
   "source": [
    "A = np.array([1,2,3,4]) # 1차원 배열 생성 \n",
    "print(A)"
   ],
   "execution_count": null,
   "outputs": []
  },
  {
   "cell_type": "code",
   "metadata": {
    "id": "AMPclcrstXpw"
   },
   "source": [
    "print(np.ndim(A)) #배열의 차원수를 알려줘 !"
   ],
   "execution_count": null,
   "outputs": []
  },
  {
   "cell_type": "code",
   "metadata": {
    "id": "EDts_Io9tnsg"
   },
   "source": [
    "print(A.shape) #배열의 차원의 크기를 튜플 형태로 알려줘 !"
   ],
   "execution_count": null,
   "outputs": []
  },
  {
   "cell_type": "code",
   "metadata": {
    "id": "yDTpDK2yt1jQ"
   },
   "source": [
    "print(A.shape[0]) #위와 차이점은 , 이게 있고 없고 인데 ,, 내가 볼땐 A.shape 값의 0번째 index를 알려달라는거 같아 "
   ],
   "execution_count": null,
   "outputs": []
  },
  {
   "cell_type": "code",
   "metadata": {
    "id": "VKxJSVpWt5Es"
   },
   "source": [
    "B = np.array([[1,2,3] , [3,4,5] , [6,7,9]]) #3차원 배열 생성\n",
    "print(B)"
   ],
   "execution_count": null,
   "outputs": []
  },
  {
   "cell_type": "code",
   "metadata": {
    "id": "zLVMXJU4x20x"
   },
   "source": [
    "print(np.ndim(B))"
   ],
   "execution_count": null,
   "outputs": []
  },
  {
   "cell_type": "code",
   "metadata": {
    "id": "Tv2M-P3j1Itz"
   },
   "source": [
    "print(B.shape)"
   ],
   "execution_count": null,
   "outputs": []
  },
  {
   "cell_type": "code",
   "metadata": {
    "id": "cCUDwCK11M7J"
   },
   "source": [
    "print(B.shape[0])"
   ],
   "execution_count": null,
   "outputs": []
  },
  {
   "cell_type": "code",
   "metadata": {
    "id": "b143355zaPXl"
   },
   "source": [
    "import numpy as np"
   ],
   "execution_count": null,
   "outputs": []
  },
  {
   "cell_type": "code",
   "metadata": {
    "id": "cm_kifbeanXR"
   },
   "source": [
    "A = np.array([[1,2] , [5,6]]) #2차원으로 A 배열 생성\n",
    "print(A.shape)"
   ],
   "execution_count": null,
   "outputs": []
  },
  {
   "cell_type": "code",
   "metadata": {
    "id": "CO8Ubm3RbNyD"
   },
   "source": [
    "B = np.array([[92,91] , [8,65]])\n",
    "print(B.shape)"
   ],
   "execution_count": null,
   "outputs": []
  },
  {
   "cell_type": "code",
   "metadata": {
    "id": "S1RjsqtsbZHo"
   },
   "source": [
    "print(np.dot(A,B)) #A와 B의 곱을 알려주는 np.dot(n1 , n2)"
   ],
   "execution_count": null,
   "outputs": []
  },
  {
   "cell_type": "code",
   "metadata": {
    "id": "pdsB_esSBiVe"
   },
   "source": [
    "import numpy as np"
   ],
   "execution_count": null,
   "outputs": []
  },
  {
   "cell_type": "code",
   "metadata": {
    "id": "N_B6EHb5Blaa"
   },
   "source": [
    "A = np.array([[1,2] , [5,6]])\n",
    "print(A.shape)\n",
    "print(A.shape[0])"
   ],
   "execution_count": null,
   "outputs": []
  },
  {
   "cell_type": "code",
   "metadata": {
    "id": "6CVg5j5YBzED"
   },
   "source": [
    "B = np.array([[1,2] , [3,4]])\n",
    "print(B.shape)\n",
    "print(B.shape[0])"
   ],
   "execution_count": null,
   "outputs": []
  },
  {
   "cell_type": "code",
   "metadata": {
    "id": "KmCqUnIIB-mC"
   },
   "source": [
    "print(np.dot(A,B))"
   ],
   "execution_count": null,
   "outputs": []
  },
  {
   "cell_type": "code",
   "metadata": {
    "id": "1JUv3NF1CIvJ"
   },
   "source": [
    "C = np.array([[1,2] , [3,4]])\n",
    "print(C.shape)\n",
    "print(C.shape[0])"
   ],
   "execution_count": null,
   "outputs": []
  },
  {
   "cell_type": "code",
   "metadata": {
    "id": "JhW2TQ4tCcdJ"
   },
   "source": [
    "print(np.dot(A, C))"
   ],
   "execution_count": null,
   "outputs": []
  },
  {
   "cell_type": "code",
   "metadata": {
    "id": "EALc1wv0CpCp"
   },
   "source": [
    "X = np.array([1,2])\n",
    "print(X.shape)"
   ],
   "execution_count": null,
   "outputs": []
  },
  {
   "cell_type": "code",
   "metadata": {
    "pycharm": {
     "name": "#%%\n"
    },
    "id": "IjvJhQ4PEGWR"
   },
   "source": [
    "W = np.array([[1,3,5] , [2,4,6]])\n",
    "print(W)"
   ],
   "execution_count": null,
   "outputs": []
  },
  {
   "cell_type": "code",
   "metadata": {
    "pycharm": {
     "name": "#%%\n"
    },
    "id": "Z-weXR93EGWR"
   },
   "source": [
    "print(W.shape)"
   ],
   "execution_count": null,
   "outputs": []
  },
  {
   "cell_type": "code",
   "metadata": {
    "pycharm": {
     "name": "#%%\n"
    },
    "id": "5mHU08NGEGWS"
   },
   "source": [
    "Y = np.dot(X, W) #X 랑 W 둘다 곱한걸 Y라하자 !\n",
    "print(Y)"
   ],
   "execution_count": null,
   "outputs": []
  },
  {
   "cell_type": "code",
   "metadata": {
    "pycharm": {
     "name": "#%%\n"
    },
    "id": "tsyew98HEGWS"
   },
   "source": [
    "X = np.array([1.0 , 0.5])\n",
    "W1 = np.array([[0.1,0.3,0.5],[0.2,0.4,0.6]])\n",
    "B1 = np.array([0.1,0.2,0.3])\n",
    "\n",
    "print(W1.shape)\n",
    "print(X.shape)\n",
    "print(B1.shape)\n",
    "\n",
    "def sigmoid(x):\n",
    "    return 1 / (1 + np.exp(-x))\n",
    "\n",
    "A1 = np.dot(X, W1) + B1\n",
    "Z1 = sigmoid(A1)\n",
    "\n",
    "print(A1)\n",
    "print(Z1)"
   ],
   "execution_count": null,
   "outputs": []
  },
  {
   "cell_type": "code",
   "metadata": {
    "pycharm": {
     "name": "#%%\n"
    },
    "id": "IR1MBsKREGWS"
   },
   "source": [
    "W2 = np.array([[0.1 , 0.4] , [0.2 , 0.5] , [0.3 , 0.6]])\n",
    "B2 = np.array([0.1,0.2])\n",
    "\n",
    "print(Z1.shape)\n",
    "print(W2.shape)\n",
    "print(B2.shape)\n",
    "\n",
    "A2 = np.dot(Z1 , W2) + B2\n",
    "Z2 = sigmoid(A2)"
   ],
   "execution_count": null,
   "outputs": []
  },
  {
   "cell_type": "code",
   "metadata": {
    "pycharm": {
     "name": "#%%\n"
    },
    "id": "95mNli1CEGWS"
   },
   "source": [
    "# A = X * W + B 계산식\n",
    "\n",
    "X = np.array([1.0 , 0.5])\n",
    "W1 = np.array([[0.1 , 0.3 , 0.5] , [0.2 , 0.4 , 0.6]])\n",
    "B1 = np.array([0.1 , 0.2 , 0.3])\n",
    "\n",
    "print(X.shape)\n",
    "print(W1.shape)\n",
    "print(B1.shape)\n",
    "\n",
    "A = np.dot(X , W1) + B1\n",
    "\n",
    "print(A)\n",
    "\n",
    "print(sigmoid(A))"
   ],
   "execution_count": null,
   "outputs": []
  },
  {
   "cell_type": "code",
   "metadata": {
    "pycharm": {
     "name": "#%%\n"
    },
    "id": "6DBHj5ZNEGWT"
   },
   "source": [
    "W2 = np.array([[0.1 , 0.4] , [0.5 , 0.2] , [0.7 , 0.9]])\n",
    "B2 = np.array([0.2 , 0.1])\n",
    "\n",
    "print(Z1.shape)\n",
    "print(W2.shape)\n",
    "print(B2.shape)\n",
    "\n",
    "A2 = np.dot(Z1 , W2) + B2\n",
    "print(sigmoid(A2))"
   ],
   "execution_count": null,
   "outputs": []
  },
  {
   "cell_type": "code",
   "metadata": {
    "pycharm": {
     "name": "#%%\n"
    },
    "id": "aH7Z_cLnEGWT"
   },
   "source": [
    "x = np.array([1.0 , 0.5])\n",
    "\n",
    "def identity_function(X):\n",
    "    return x\n",
    "\n",
    "\n",
    "W3 = np.array([[0.1 , 0.3] , [0.2 , 0.4]])\n",
    "B3 = np.array([0.1 , 0.2])\n",
    "\n",
    "A3 = np.dot(Z2 , W3) + B3\n",
    "Y = identity_function(A3) # 또는 Y = A3로 써도 코드상 문제X\n",
    "\n",
    "print(Y)"
   ],
   "execution_count": null,
   "outputs": []
  },
  {
   "cell_type": "code",
   "metadata": {
    "pycharm": {
     "name": "#%%\n"
    },
    "id": "ROXm-MHUEGWT"
   },
   "source": [
    "import numpy as np\n",
    "\n",
    "def identity_function(x):\n",
    "    return x\n",
    "\n",
    "def sigmoid(x):\n",
    "    return 1 / (1 + np.exp(-x))\n",
    "\n",
    "def init_network():\n",
    "    network = {}\n",
    "    network['W1'] = np.array([[0.1, 0.3 , 0.5] , [0.2 ,0.4 , 0.6]])\n",
    "    network['b1'] = np.array([0.18 , 0.32 , 0.7])\n",
    "    network['W2'] = np.array([[0.78 , 0.2] , [0.56 , 0.1] , [0.67 , 0.2]])\n",
    "    network['b2'] = np.array([0.6 , 0.9])\n",
    "    network['W3'] = np.array([[0.8 , 0.24] , [0.143 , 0.254]])\n",
    "    network['b3'] = np.array([0.5562 , 0.432])\n",
    "\n",
    "    return network\n",
    "\n",
    "def forword(network, x):\n",
    "    W1 , W2 , W3 = network['W1'] , network['W2'] , network['W3']\n",
    "    b1 , b2, b3 = network['b1'] , network['b2'] , network['b3']\n",
    "\n",
    "    a1 = np.dot(x , W1) + b1\n",
    "    z1 = sigmoid(a1)\n",
    "    a2 = np.dot(z1 , W2) + b2\n",
    "    z2 = sigmoid(a2)\n",
    "    a3 = np.dot(z2, W3) + b3\n",
    "    y = identity_function(a3)\n",
    "\n",
    "    return y\n",
    "\n",
    "network = init_network()\n",
    "x = np.array([1.0 , 0.5])\n",
    "y = forword(network, x)\n",
    "print(y)"
   ],
   "execution_count": 1,
   "outputs": [
    {
     "name": "stdout",
     "output_type": "stream",
     "text": [
      "[1.37201446 0.84089491]\n"
     ]
    }
   ]
  }
 ]
}